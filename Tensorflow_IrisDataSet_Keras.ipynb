{
 "cells": [
  {
   "cell_type": "markdown",
   "metadata": {},
   "source": [
    "## Problem set: Tensorflow\n",
    "These problems relate to the Python package Tensorflow. We will again use the famous iris data set. Save your work as a single Jupyter notebook file in a GitHub repository. Include any required data files, a README, and a gitignore file in the repository. \n",
    "\n",
    "### Code Apdapeted from \n",
    "http://chappers.github.io/web%20micro%20log/2017/01/26/quick-models-in-keras/\n",
    "https://machinelearningmastery.com/multi-class-classification-tutorial-keras-deep-learning-library/\n",
    "http://scikit-learn.org/stable/modules/cross_validation.html"
   ]
  },
  {
   "cell_type": "markdown",
   "metadata": {},
   "source": [
    "### Get and load the data"
   ]
  },
  {
   "cell_type": "code",
   "execution_count": 279,
   "metadata": {
    "scrolled": true
   },
   "outputs": [],
   "source": [
    "#import desired packages\n",
    "\n",
    "import tensorflow as tf\n",
    "import numpy as np\n",
    "import pandas as pd\n",
    "import seaborn as sns\n",
    "import matplotlib.pyplot as plt\n",
    "from keras.models import Sequential\n",
    "from keras.layers import Dense, Dropout\n",
    "from keras.regularizers import l2\n",
    "from keras.utils import np_utils\n",
    "from sklearn.cross_validation import train_test_split\n",
    "from sklearn.linear_model import LogisticRegressionCV\n",
    "from sklearn.model_selection import cross_val_predict\n",
    "from sklearn import svm\n"
   ]
  },
  {
   "cell_type": "code",
   "execution_count": 280,
   "metadata": {
    "collapsed": true
   },
   "outputs": [],
   "source": [
    "#import data \n",
    "\n",
    "data=pd.read_csv('data.csv', names=['SepalLength','SepalWidth','PetalLength','PetalWidth','Species'])"
   ]
  },
  {
   "cell_type": "code",
   "execution_count": 281,
   "metadata": {},
   "outputs": [
    {
     "data": {
      "text/html": [
       "<div>\n",
       "<style>\n",
       "    .dataframe thead tr:only-child th {\n",
       "        text-align: right;\n",
       "    }\n",
       "\n",
       "    .dataframe thead th {\n",
       "        text-align: left;\n",
       "    }\n",
       "\n",
       "    .dataframe tbody tr th {\n",
       "        vertical-align: top;\n",
       "    }\n",
       "</style>\n",
       "<table border=\"1\" class=\"dataframe\">\n",
       "  <thead>\n",
       "    <tr style=\"text-align: right;\">\n",
       "      <th></th>\n",
       "      <th>SepalLength</th>\n",
       "      <th>SepalWidth</th>\n",
       "      <th>PetalLength</th>\n",
       "      <th>PetalWidth</th>\n",
       "      <th>Species</th>\n",
       "    </tr>\n",
       "  </thead>\n",
       "  <tbody>\n",
       "    <tr>\n",
       "      <th>0</th>\n",
       "      <td>5.1</td>\n",
       "      <td>3.5</td>\n",
       "      <td>1.4</td>\n",
       "      <td>0.2</td>\n",
       "      <td>Iris-setosa</td>\n",
       "    </tr>\n",
       "    <tr>\n",
       "      <th>1</th>\n",
       "      <td>4.9</td>\n",
       "      <td>3.0</td>\n",
       "      <td>1.4</td>\n",
       "      <td>0.2</td>\n",
       "      <td>Iris-setosa</td>\n",
       "    </tr>\n",
       "    <tr>\n",
       "      <th>2</th>\n",
       "      <td>4.7</td>\n",
       "      <td>3.2</td>\n",
       "      <td>1.3</td>\n",
       "      <td>0.2</td>\n",
       "      <td>Iris-setosa</td>\n",
       "    </tr>\n",
       "    <tr>\n",
       "      <th>3</th>\n",
       "      <td>4.6</td>\n",
       "      <td>3.1</td>\n",
       "      <td>1.5</td>\n",
       "      <td>0.2</td>\n",
       "      <td>Iris-setosa</td>\n",
       "    </tr>\n",
       "    <tr>\n",
       "      <th>4</th>\n",
       "      <td>5.0</td>\n",
       "      <td>3.6</td>\n",
       "      <td>1.4</td>\n",
       "      <td>0.2</td>\n",
       "      <td>Iris-setosa</td>\n",
       "    </tr>\n",
       "  </tbody>\n",
       "</table>\n",
       "</div>"
      ],
      "text/plain": [
       "   SepalLength  SepalWidth  PetalLength  PetalWidth      Species\n",
       "0          5.1         3.5          1.4         0.2  Iris-setosa\n",
       "1          4.9         3.0          1.4         0.2  Iris-setosa\n",
       "2          4.7         3.2          1.3         0.2  Iris-setosa\n",
       "3          4.6         3.1          1.5         0.2  Iris-setosa\n",
       "4          5.0         3.6          1.4         0.2  Iris-setosa"
      ]
     },
     "execution_count": 281,
     "metadata": {},
     "output_type": "execute_result"
    }
   ],
   "source": [
    "#Display the data\n",
    "\n",
    "data.head()"
   ]
  },
  {
   "cell_type": "markdown",
   "metadata": {},
   "source": [
    "### 1. Use Tensorflow to create model"
   ]
  },
  {
   "cell_type": "markdown",
   "metadata": {},
   "source": [
    "Use Tensorflow to create a model to predict the species of Iris from a flower’s sepal width, sepal length, petal width, and petal length.\n"
   ]
  },
  {
   "cell_type": "code",
   "execution_count": 282,
   "metadata": {},
   "outputs": [],
   "source": [
    "# Building the model\n",
    "# Adapeted from: http://blog.fastforwardlabs.com/2016/02/24/hello-world-in-keras-or-scikit-learn-versus.html\n",
    "\n",
    "def one_hot_encode_object_array(arr):\n",
    "    '''One hot encode a numpy array of objects (e.g. strings)'''\n",
    "    uniques, ids = np.unique(arr, return_inverse=True)\n",
    "    return np_utils.to_categorical(ids, len(uniques))\n"
   ]
  },
  {
   "cell_type": "code",
   "execution_count": 283,
   "metadata": {},
   "outputs": [
    {
     "name": "stderr",
     "output_type": "stream",
     "text": [
      "C:\\Users\\Alexander Souza\\Anaconda3\\lib\\site-packages\\ipykernel_launcher.py:8: UserWarning: Update your `Dense` call to the Keras 2 API: `Dense(16, input_shape=(4,), activation=\"tanh\", kernel_regularizer=<keras.reg...)`\n",
      "  \n"
     ]
    }
   ],
   "source": [
    "\n",
    "\n",
    "train_y_ohe = one_hot_encode_object_array(train_y)\n",
    "test_y_ohe = one_hot_encode_object_array(test_y)\n",
    "\n",
    "# input layer\n",
    "model = Sequential()\n",
    "model.add(Dense(16, input_shape=(4,), activation=\"tanh\", W_regularizer=l2(0.001)))\n",
    "model.add(Dropout(0.5))\n",
    "model.add(Dense(3, activation=\"softmax\"))\n",
    "\n",
    "model.compile(loss='categorical_crossentropy', metrics=['accuracy'], optimizer='adam')\n"
   ]
  },
  {
   "cell_type": "code",
   "execution_count": 284,
   "metadata": {},
   "outputs": [
    {
     "name": "stdout",
     "output_type": "stream",
     "text": [
      "Test predict = 0.83\n"
     ]
    }
   ],
   "source": [
    "# Evaluate Logistic Regression\n",
    "# http://blog.fastforwardlabs.com/2016/02/24/hello-world-in-keras-or-scikit-learn-versus.html\n",
    "\n",
    "lr = LogisticRegressionCV()\n",
    "lr.fit(train_X, train_y)\n",
    "pred_y = lr.predict(test_X)\n",
    "\n",
    "predResult = int(lr.score(test_X, test_y))\n",
    "\n",
    "print(\"Test predict = {:.2f}\".format(lr.score(test_X, test_y)))\n"
   ]
  },
  {
   "cell_type": "code",
   "execution_count": 285,
   "metadata": {},
   "outputs": [
    {
     "name": "stdout",
     "output_type": "stream",
     "text": [
      "flower is :Iris-setosa\n"
     ]
    }
   ],
   "source": [
    "# Predict the Species\n",
    "\n",
    "if predResult==0:\n",
    "    print (\"flower is :Iris-setosa\")\n",
    "elif predResult==1:\n",
    "    print (\"flower is :Iris-versicolor\")\n",
    "else :\n",
    "    print (\"flower is :Iris-virginica\")\n",
    "    "
   ]
  },
  {
   "cell_type": "markdown",
   "metadata": {},
   "source": [
    "### 2. Split the data into training and testing"
   ]
  },
  {
   "cell_type": "markdown",
   "metadata": {},
   "source": [
    "Split the data set into a training set and a testing set. You should investigate the best way to do this, and list any online references used in your notebook. If you wish to, you can write some code to randomly separate the data on the fly."
   ]
  },
  {
   "cell_type": "code",
   "execution_count": 286,
   "metadata": {},
   "outputs": [],
   "source": [
    "# Prepare data\n",
    "\n",
    "X = data.values[:, 0:4]\n",
    "y = data.values[:, 4]"
   ]
  },
  {
   "cell_type": "code",
   "execution_count": 287,
   "metadata": {},
   "outputs": [],
   "source": [
    "# Make test and train set\n",
    "\n",
    "train_X, test_X, train_y, test_y = train_test_split(X, y, train_size=0.5, random_state=0)"
   ]
  },
  {
   "cell_type": "markdown",
   "metadata": {},
   "source": [
    "### 3. Train the model"
   ]
  },
  {
   "cell_type": "markdown",
   "metadata": {},
   "source": [
    "Use the testing set to train your model."
   ]
  },
  {
   "cell_type": "code",
   "execution_count": 288,
   "metadata": {
    "scrolled": false
   },
   "outputs": [
    {
     "name": "stderr",
     "output_type": "stream",
     "text": [
      "C:\\Users\\Alexander Souza\\Anaconda3\\lib\\site-packages\\keras\\models.py:844: UserWarning: The `nb_epoch` argument in `fit` has been renamed `epochs`.\n",
      "  warnings.warn('The `nb_epoch` argument in `fit` '\n"
     ]
    },
    {
     "name": "stdout",
     "output_type": "stream",
     "text": [
      "Epoch 1/100\n",
      "75/75 [==============================] - 0s - loss: 1.6159 - acc: 0.2800        \n",
      "Epoch 2/100\n",
      "75/75 [==============================] - 0s - loss: 1.3612 - acc: 0.3333       \n",
      "Epoch 3/100\n",
      "75/75 [==============================] - 0s - loss: 1.3003 - acc: 0.3867      \n",
      "Epoch 4/100\n",
      "75/75 [==============================] - 0s - loss: 1.1167 - acc: 0.4000      \n",
      "Epoch 5/100\n",
      "75/75 [==============================] - 0s - loss: 1.1206 - acc: 0.4400       \n",
      "Epoch 6/100\n",
      "75/75 [==============================] - 0s - loss: 0.9179 - acc: 0.5467     \n",
      "Epoch 7/100\n",
      "75/75 [==============================] - 0s - loss: 0.8265 - acc: 0.5867     \n",
      "Epoch 8/100\n",
      "75/75 [==============================] - 0s - loss: 0.7662 - acc: 0.6533      \n",
      "Epoch 9/100\n",
      "75/75 [==============================] - 0s - loss: 0.7210 - acc: 0.7067     \n",
      "Epoch 10/100\n",
      "75/75 [==============================] - 0s - loss: 0.6591 - acc: 0.6267      \n",
      "Epoch 11/100\n",
      "75/75 [==============================] - 0s - loss: 0.6686 - acc: 0.6533       \n",
      "Epoch 12/100\n",
      "75/75 [==============================] - 0s - loss: 0.5610 - acc: 0.7200       \n",
      "Epoch 13/100\n",
      "75/75 [==============================] - 0s - loss: 0.5466 - acc: 0.7733     \n",
      "Epoch 14/100\n",
      "75/75 [==============================] - 0s - loss: 0.4814 - acc: 0.8133     \n",
      "Epoch 15/100\n",
      "75/75 [==============================] - 0s - loss: 0.4561 - acc: 0.8800     \n",
      "Epoch 16/100\n",
      "75/75 [==============================] - 0s - loss: 0.4411 - acc: 0.8267     \n",
      "Epoch 17/100\n",
      "75/75 [==============================] - 0s - loss: 0.4271 - acc: 0.8400     \n",
      "Epoch 18/100\n",
      "75/75 [==============================] - 0s - loss: 0.3794 - acc: 0.8933       \n",
      "Epoch 19/100\n",
      "75/75 [==============================] - 0s - loss: 0.3841 - acc: 0.8800     \n",
      "Epoch 20/100\n",
      "75/75 [==============================] - 0s - loss: 0.3575 - acc: 0.8667     \n",
      "Epoch 21/100\n",
      "75/75 [==============================] - 0s - loss: 0.3416 - acc: 0.9067     \n",
      "Epoch 22/100\n",
      "75/75 [==============================] - 0s - loss: 0.3984 - acc: 0.8933      \n",
      "Epoch 23/100\n",
      "75/75 [==============================] - 0s - loss: 0.3618 - acc: 0.8933     \n",
      "Epoch 24/100\n",
      "75/75 [==============================] - 0s - loss: 0.2919 - acc: 0.9200     \n",
      "Epoch 25/100\n",
      "75/75 [==============================] - 0s - loss: 0.2992 - acc: 0.9333     \n",
      "Epoch 26/100\n",
      "75/75 [==============================] - 0s - loss: 0.3254 - acc: 0.8933     \n",
      "Epoch 27/100\n",
      "75/75 [==============================] - 0s - loss: 0.3384 - acc: 0.8800     \n",
      "Epoch 28/100\n",
      "75/75 [==============================] - 0s - loss: 0.2841 - acc: 0.9200      \n",
      "Epoch 29/100\n",
      "75/75 [==============================] - 0s - loss: 0.2884 - acc: 0.8933     \n",
      "Epoch 30/100\n",
      "75/75 [==============================] - 0s - loss: 0.3164 - acc: 0.9333     \n",
      "Epoch 31/100\n",
      "75/75 [==============================] - 0s - loss: 0.2771 - acc: 0.9333     \n",
      "Epoch 32/100\n",
      "75/75 [==============================] - 0s - loss: 0.2793 - acc: 0.9467     \n",
      "Epoch 33/100\n",
      "75/75 [==============================] - 0s - loss: 0.2906 - acc: 0.9333     \n",
      "Epoch 34/100\n",
      "75/75 [==============================] - 0s - loss: 0.3158 - acc: 0.9067     \n",
      "Epoch 35/100\n",
      "75/75 [==============================] - 0s - loss: 0.2578 - acc: 0.9467     \n",
      "Epoch 36/100\n",
      "75/75 [==============================] - 0s - loss: 0.2525 - acc: 0.9467     \n",
      "Epoch 37/100\n",
      "75/75 [==============================] - 0s - loss: 0.2633 - acc: 0.9467     \n",
      "Epoch 38/100\n",
      "75/75 [==============================] - 0s - loss: 0.2440 - acc: 0.9867     \n",
      "Epoch 39/100\n",
      "75/75 [==============================] - 0s - loss: 0.3208 - acc: 0.8933     \n",
      "Epoch 40/100\n",
      "75/75 [==============================] - 0s - loss: 0.2338 - acc: 0.9333     \n",
      "Epoch 41/100\n",
      "75/75 [==============================] - 0s - loss: 0.2261 - acc: 0.9600     \n",
      "Epoch 42/100\n",
      "75/75 [==============================] - 0s - loss: 0.2167 - acc: 0.9333     \n",
      "Epoch 43/100\n",
      "75/75 [==============================] - 0s - loss: 0.2395 - acc: 0.9333     \n",
      "Epoch 44/100\n",
      "75/75 [==============================] - 0s - loss: 0.2370 - acc: 0.9333     \n",
      "Epoch 45/100\n",
      "75/75 [==============================] - 0s - loss: 0.2374 - acc: 0.9200     \n",
      "Epoch 46/100\n",
      "75/75 [==============================] - 0s - loss: 0.2210 - acc: 0.9333     \n",
      "Epoch 47/100\n",
      "75/75 [==============================] - 0s - loss: 0.2014 - acc: 0.9600     \n",
      "Epoch 48/100\n",
      "75/75 [==============================] - 0s - loss: 0.1941 - acc: 0.9733     \n",
      "Epoch 49/100\n",
      "75/75 [==============================] - 0s - loss: 0.2450 - acc: 0.9067     \n",
      "Epoch 50/100\n",
      "75/75 [==============================] - 0s - loss: 0.1980 - acc: 0.9600     \n",
      "Epoch 51/100\n",
      "75/75 [==============================] - 0s - loss: 0.2097 - acc: 0.9467     \n",
      "Epoch 52/100\n",
      "75/75 [==============================] - 0s - loss: 0.2044 - acc: 0.9467     \n",
      "Epoch 53/100\n",
      "75/75 [==============================] - 0s - loss: 0.1872 - acc: 0.9733     \n",
      "Epoch 54/100\n",
      "75/75 [==============================] - 0s - loss: 0.1942 - acc: 0.9733     \n",
      "Epoch 55/100\n",
      "75/75 [==============================] - 0s - loss: 0.1766 - acc: 0.9467     \n",
      "Epoch 56/100\n",
      "75/75 [==============================] - 0s - loss: 0.1509 - acc: 1.0000     \n",
      "Epoch 57/100\n",
      "75/75 [==============================] - 0s - loss: 0.1812 - acc: 0.9333     \n",
      "Epoch 58/100\n",
      "75/75 [==============================] - 0s - loss: 0.1458 - acc: 0.9867     \n",
      "Epoch 59/100\n",
      "75/75 [==============================] - 0s - loss: 0.2063 - acc: 0.9733     \n",
      "Epoch 60/100\n",
      "75/75 [==============================] - 0s - loss: 0.1994 - acc: 0.9467      \n",
      "Epoch 61/100\n",
      "75/75 [==============================] - 0s - loss: 0.1620 - acc: 0.9600     \n",
      "Epoch 62/100\n",
      "75/75 [==============================] - 0s - loss: 0.1502 - acc: 0.9733     \n",
      "Epoch 63/100\n",
      "75/75 [==============================] - 0s - loss: 0.1900 - acc: 0.9467     \n",
      "Epoch 64/100\n",
      "75/75 [==============================] - 0s - loss: 0.1865 - acc: 0.9600     \n",
      "Epoch 65/100\n",
      "75/75 [==============================] - 0s - loss: 0.1835 - acc: 0.9600     \n",
      "Epoch 66/100\n",
      "75/75 [==============================] - 0s - loss: 0.1386 - acc: 0.9600     \n",
      "Epoch 67/100\n",
      "75/75 [==============================] - 0s - loss: 0.1677 - acc: 0.9600     \n",
      "Epoch 68/100\n",
      "75/75 [==============================] - 0s - loss: 0.1778 - acc: 0.9200     \n",
      "Epoch 69/100\n",
      "75/75 [==============================] - 0s - loss: 0.1875 - acc: 0.9333     \n",
      "Epoch 70/100\n",
      "75/75 [==============================] - 0s - loss: 0.1678 - acc: 0.9333     \n",
      "Epoch 71/100\n",
      "75/75 [==============================] - 0s - loss: 0.1766 - acc: 0.9733     \n",
      "Epoch 72/100\n",
      "75/75 [==============================] - 0s - loss: 0.1614 - acc: 0.9733     \n",
      "Epoch 73/100\n",
      "75/75 [==============================] - 0s - loss: 0.1556 - acc: 0.9733      \n",
      "Epoch 74/100\n",
      "75/75 [==============================] - 0s - loss: 0.1639 - acc: 0.9467     \n",
      "Epoch 75/100\n",
      "75/75 [==============================] - 0s - loss: 0.1423 - acc: 0.9600     \n",
      "Epoch 76/100\n",
      "75/75 [==============================] - 0s - loss: 0.1527 - acc: 0.9467      \n",
      "Epoch 77/100\n",
      "75/75 [==============================] - 0s - loss: 0.1451 - acc: 0.9600     \n",
      "Epoch 78/100\n",
      "75/75 [==============================] - 0s - loss: 0.1651 - acc: 0.9467     \n",
      "Epoch 79/100\n",
      "75/75 [==============================] - 0s - loss: 0.1600 - acc: 0.9467     \n",
      "Epoch 80/100\n",
      "75/75 [==============================] - 0s - loss: 0.1633 - acc: 0.9733     \n",
      "Epoch 81/100\n",
      "75/75 [==============================] - 0s - loss: 0.1348 - acc: 0.9467     \n",
      "Epoch 82/100\n",
      "75/75 [==============================] - 0s - loss: 0.1569 - acc: 0.9333     \n",
      "Epoch 83/100\n",
      "75/75 [==============================] - 0s - loss: 0.1175 - acc: 0.9867     \n",
      "Epoch 84/100\n",
      "75/75 [==============================] - 0s - loss: 0.1321 - acc: 0.9467     \n",
      "Epoch 85/100\n",
      "75/75 [==============================] - 0s - loss: 0.1624 - acc: 0.9333     \n",
      "Epoch 86/100\n",
      "75/75 [==============================] - 0s - loss: 0.1255 - acc: 0.9867     \n",
      "Epoch 87/100\n",
      "75/75 [==============================] - 0s - loss: 0.1569 - acc: 0.9333     \n",
      "Epoch 88/100\n",
      "75/75 [==============================] - 0s - loss: 0.1294 - acc: 0.9333     \n",
      "Epoch 89/100\n",
      "75/75 [==============================] - 0s - loss: 0.1253 - acc: 0.9733     \n",
      "Epoch 90/100\n"
     ]
    },
    {
     "name": "stdout",
     "output_type": "stream",
     "text": [
      "75/75 [==============================] - 0s - loss: 0.1521 - acc: 0.9333     \n",
      "Epoch 91/100\n",
      "75/75 [==============================] - 0s - loss: 0.1688 - acc: 0.9467     \n",
      "Epoch 92/100\n",
      "75/75 [==============================] - 0s - loss: 0.1283 - acc: 0.9467     \n",
      "Epoch 93/100\n",
      "75/75 [==============================] - 0s - loss: 0.1435 - acc: 0.9733     \n",
      "Epoch 94/100\n",
      "75/75 [==============================] - 0s - loss: 0.1299 - acc: 0.9867     \n",
      "Epoch 95/100\n",
      "75/75 [==============================] - 0s - loss: 0.1204 - acc: 0.9600     \n",
      "Epoch 96/100\n",
      "75/75 [==============================] - 0s - loss: 0.1215 - acc: 0.9467     \n",
      "Epoch 97/100\n",
      "75/75 [==============================] - 0s - loss: 0.1146 - acc: 0.9733     \n",
      "Epoch 98/100\n",
      "75/75 [==============================] - 0s - loss: 0.1028 - acc: 0.9600     \n",
      "Epoch 99/100\n",
      "75/75 [==============================] - 0s - loss: 0.1428 - acc: 0.9600     \n",
      "Epoch 100/100\n",
      "75/75 [==============================] - 0s - loss: 0.1448 - acc: 0.9467     \n"
     ]
    },
    {
     "data": {
      "text/plain": [
       "<keras.callbacks.History at 0x23aca72b128>"
      ]
     },
     "execution_count": 288,
     "metadata": {},
     "output_type": "execute_result"
    }
   ],
   "source": [
    "# train the model\n",
    "# Takes fill seconds to train\n",
    "# This point I got a warning, but not afect the system\n",
    "\n",
    "model.fit(train_X, train_y_ohe, verbose=1, batch_size=1, nb_epoch=100)\n"
   ]
  },
  {
   "cell_type": "markdown",
   "metadata": {},
   "source": [
    "### 4. Test the model"
   ]
  },
  {
   "cell_type": "markdown",
   "metadata": {},
   "source": [
    "Use the testing set to test your model, clearly calculating and displaying the error rate."
   ]
  },
  {
   "cell_type": "code",
   "execution_count": 289,
   "metadata": {},
   "outputs": [
    {
     "name": "stdout",
     "output_type": "stream",
     "text": [
      "Test fraction correct (LR-Accuracy) = 0.83\n",
      "Test fraction correct (NN-Score) = 0.11\n",
      "Test fraction correct (NN-Accuracy) = 0.97\n"
     ]
    }
   ],
   "source": [
    "# Colect the score and accuracy from the model\n",
    "\n",
    "score, accuracy = model.evaluate(test_X, test_y_ohe, batch_size=16, verbose=0)\n",
    "\n",
    "print(\"Test fraction correct (LR-Accuracy) = {:.2f}\".format(lr.score(test_X, test_y)))\n",
    "print(\"Test fraction correct (NN-Score) = {:.2f}\".format(score))\n",
    "print(\"Test fraction correct (NN-Accuracy) = {:.2f}\".format(accuracy))\n"
   ]
  }
 ],
 "metadata": {
  "kernelspec": {
   "display_name": "Python 3",
   "language": "python",
   "name": "python3"
  },
  "language_info": {
   "codemirror_mode": {
    "name": "ipython",
    "version": 3
   },
   "file_extension": ".py",
   "mimetype": "text/x-python",
   "name": "python",
   "nbconvert_exporter": "python",
   "pygments_lexer": "ipython3",
   "version": "3.6.3"
  }
 },
 "nbformat": 4,
 "nbformat_minor": 2
}
