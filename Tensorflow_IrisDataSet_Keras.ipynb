{
 "cells": [
  {
   "cell_type": "markdown",
   "metadata": {},
   "source": [
    "## Problem set: Tensorflow\n",
    "These problems relate to the Python package Tensorflow. We will again use the famous iris data set. Save your work as a single Jupyter notebook file in a GitHub repository. Include any required data files, a README, and a gitignore file in the repository. "
   ]
  },
  {
   "cell_type": "markdown",
   "metadata": {},
   "source": [
    "### Get and load the data"
   ]
  },
  {
   "cell_type": "code",
   "execution_count": 86,
   "metadata": {
    "scrolled": true
   },
   "outputs": [],
   "source": [
    "#import desired packages\n",
    "import tensorflow as tf\n",
    "import numpy as np\n",
    "import pandas as pd\n",
    "import seaborn as sns\n",
    "import matplotlib.pyplot as plt\n",
    "from keras.models import Sequential\n",
    "from keras.layers import Dense, Dropout\n",
    "from keras.regularizers import l2\n",
    "from keras.utils import np_utils\n",
    "\n",
    "from sklearn.cross_validation import train_test_split\n",
    "\n",
    "\n",
    "   "
   ]
  },
  {
   "cell_type": "code",
   "execution_count": 87,
   "metadata": {
    "collapsed": true
   },
   "outputs": [],
   "source": [
    "#import data \n",
    "data=pd.read_csv('data.csv', names=['SepalLength','SepalWidth','PetalLength','PetalWidth','Species'])"
   ]
  },
  {
   "cell_type": "code",
   "execution_count": 88,
   "metadata": {},
   "outputs": [
    {
     "data": {
      "text/html": [
       "<div>\n",
       "<style>\n",
       "    .dataframe thead tr:only-child th {\n",
       "        text-align: right;\n",
       "    }\n",
       "\n",
       "    .dataframe thead th {\n",
       "        text-align: left;\n",
       "    }\n",
       "\n",
       "    .dataframe tbody tr th {\n",
       "        vertical-align: top;\n",
       "    }\n",
       "</style>\n",
       "<table border=\"1\" class=\"dataframe\">\n",
       "  <thead>\n",
       "    <tr style=\"text-align: right;\">\n",
       "      <th></th>\n",
       "      <th>SepalLength</th>\n",
       "      <th>SepalWidth</th>\n",
       "      <th>PetalLength</th>\n",
       "      <th>PetalWidth</th>\n",
       "      <th>Species</th>\n",
       "    </tr>\n",
       "  </thead>\n",
       "  <tbody>\n",
       "    <tr>\n",
       "      <th>0</th>\n",
       "      <td>5.1</td>\n",
       "      <td>3.5</td>\n",
       "      <td>1.4</td>\n",
       "      <td>0.2</td>\n",
       "      <td>Iris-setosa</td>\n",
       "    </tr>\n",
       "    <tr>\n",
       "      <th>1</th>\n",
       "      <td>4.9</td>\n",
       "      <td>3.0</td>\n",
       "      <td>1.4</td>\n",
       "      <td>0.2</td>\n",
       "      <td>Iris-setosa</td>\n",
       "    </tr>\n",
       "    <tr>\n",
       "      <th>2</th>\n",
       "      <td>4.7</td>\n",
       "      <td>3.2</td>\n",
       "      <td>1.3</td>\n",
       "      <td>0.2</td>\n",
       "      <td>Iris-setosa</td>\n",
       "    </tr>\n",
       "    <tr>\n",
       "      <th>3</th>\n",
       "      <td>4.6</td>\n",
       "      <td>3.1</td>\n",
       "      <td>1.5</td>\n",
       "      <td>0.2</td>\n",
       "      <td>Iris-setosa</td>\n",
       "    </tr>\n",
       "    <tr>\n",
       "      <th>4</th>\n",
       "      <td>5.0</td>\n",
       "      <td>3.6</td>\n",
       "      <td>1.4</td>\n",
       "      <td>0.2</td>\n",
       "      <td>Iris-setosa</td>\n",
       "    </tr>\n",
       "  </tbody>\n",
       "</table>\n",
       "</div>"
      ],
      "text/plain": [
       "   SepalLength  SepalWidth  PetalLength  PetalWidth      Species\n",
       "0          5.1         3.5          1.4         0.2  Iris-setosa\n",
       "1          4.9         3.0          1.4         0.2  Iris-setosa\n",
       "2          4.7         3.2          1.3         0.2  Iris-setosa\n",
       "3          4.6         3.1          1.5         0.2  Iris-setosa\n",
       "4          5.0         3.6          1.4         0.2  Iris-setosa"
      ]
     },
     "execution_count": 88,
     "metadata": {},
     "output_type": "execute_result"
    }
   ],
   "source": [
    "#Display the data\n",
    "data.head()"
   ]
  },
  {
   "cell_type": "markdown",
   "metadata": {},
   "source": [
    "### 1. Use Tensorflow to create model"
   ]
  },
  {
   "cell_type": "markdown",
   "metadata": {},
   "source": [
    "Use Tensorflow to create a model to predict the species of Iris from a flower’s sepal width, sepal length, petal width, and petal length.\n"
   ]
  },
  {
   "cell_type": "code",
   "execution_count": 89,
   "metadata": {},
   "outputs": [
    {
     "name": "stderr",
     "output_type": "stream",
     "text": [
      "C:\\Users\\Alexander Souza\\Anaconda3\\lib\\site-packages\\ipykernel_launcher.py:12: UserWarning: Update your `Dense` call to the Keras 2 API: `Dense(16, input_shape=(4,), activation=\"tanh\", kernel_regularizer=<keras.reg...)`\n",
      "  if sys.path[0] == '':\n"
     ]
    }
   ],
   "source": [
    "# Make ONE-HOT\n",
    "def one_hot_encode_object_array(arr):\n",
    "    '''One hot encode a numpy array of objects (e.g. strings)'''\n",
    "    uniques, ids = np.unique(arr, return_inverse=True)\n",
    "    return np_utils.to_categorical(ids, len(uniques))\n",
    "\n",
    "\n",
    "train_y_ohe = one_hot_encode_object_array(train_y)\n",
    "test_y_ohe = one_hot_encode_object_array(test_y)\n",
    "\n",
    "model = Sequential()\n",
    "model.add(Dense(16, input_shape=(4,), activation=\"tanh\", W_regularizer=l2(0.001)))\n",
    "model.add(Dropout(0.5))\n",
    "model.add(Dense(3, activation=\"softmax\"))\n",
    "\n",
    "model.compile(loss='categorical_crossentropy', metrics=['accuracy'], optimizer='adam')"
   ]
  },
  {
   "cell_type": "markdown",
   "metadata": {},
   "source": [
    "### 2. Split the data into training and testing"
   ]
  },
  {
   "cell_type": "markdown",
   "metadata": {},
   "source": [
    "Split the data set into a training set and a testing set. You should investigate the best way to do this, and list any online references used in your notebook. If you wish to, you can write some code to randomly separate the data on the fly."
   ]
  },
  {
   "cell_type": "code",
   "execution_count": 90,
   "metadata": {},
   "outputs": [],
   "source": [
    "# Prepare data\n",
    "X = data.values[:, 0:4]\n",
    "y = data.values[:, 4]"
   ]
  },
  {
   "cell_type": "code",
   "execution_count": 91,
   "metadata": {},
   "outputs": [],
   "source": [
    "# Make test and train set\n",
    "train_X, test_X, train_y, test_y = train_test_split(X, y, train_size=0.5, random_state=0)"
   ]
  },
  {
   "cell_type": "markdown",
   "metadata": {},
   "source": [
    "### 3. Train the model"
   ]
  },
  {
   "cell_type": "markdown",
   "metadata": {},
   "source": [
    "Use the testing set to train your model."
   ]
  },
  {
   "cell_type": "code",
   "execution_count": 92,
   "metadata": {
    "scrolled": false
   },
   "outputs": [
    {
     "name": "stderr",
     "output_type": "stream",
     "text": [
      "C:\\Users\\Alexander Souza\\Anaconda3\\lib\\site-packages\\keras\\models.py:844: UserWarning: The `nb_epoch` argument in `fit` has been renamed `epochs`.\n",
      "  warnings.warn('The `nb_epoch` argument in `fit` '\n"
     ]
    },
    {
     "name": "stdout",
     "output_type": "stream",
     "text": [
      "Epoch 1/100\n",
      "75/75 [==============================] - 0s - loss: 1.7508 - acc: 0.2667        \n",
      "Epoch 2/100\n",
      "75/75 [==============================] - 0s - loss: 1.4713 - acc: 0.2800     \n",
      "Epoch 3/100\n",
      "75/75 [==============================] - 0s - loss: 1.3993 - acc: 0.3067     \n",
      "Epoch 4/100\n",
      "75/75 [==============================] - 0s - loss: 1.2518 - acc: 0.3467        \n",
      "Epoch 5/100\n",
      "75/75 [==============================] - 0s - loss: 0.9708 - acc: 0.5200     \n",
      "Epoch 6/100\n",
      "75/75 [==============================] - 0s - loss: 0.9130 - acc: 0.5467     \n",
      "Epoch 7/100\n",
      "75/75 [==============================] - 0s - loss: 0.8416 - acc: 0.6267     \n",
      "Epoch 8/100\n",
      "75/75 [==============================] - 0s - loss: 0.7792 - acc: 0.6933     \n",
      "Epoch 9/100\n",
      "75/75 [==============================] - 0s - loss: 0.6875 - acc: 0.7467     \n",
      "Epoch 10/100\n",
      "75/75 [==============================] - 0s - loss: 0.7234 - acc: 0.7200     \n",
      "Epoch 11/100\n",
      "75/75 [==============================] - 0s - loss: 0.6572 - acc: 0.7600     \n",
      "Epoch 12/100\n",
      "75/75 [==============================] - 0s - loss: 0.6883 - acc: 0.6667       \n",
      "Epoch 13/100\n",
      "75/75 [==============================] - 0s - loss: 0.6193 - acc: 0.7733     \n",
      "Epoch 14/100\n",
      "75/75 [==============================] - 0s - loss: 0.5824 - acc: 0.7600     \n",
      "Epoch 15/100\n",
      "75/75 [==============================] - 0s - loss: 0.5985 - acc: 0.7733     \n",
      "Epoch 16/100\n",
      "75/75 [==============================] - 0s - loss: 0.5826 - acc: 0.7733     \n",
      "Epoch 17/100\n",
      "75/75 [==============================] - 0s - loss: 0.5286 - acc: 0.8400     \n",
      "Epoch 18/100\n",
      "75/75 [==============================] - 0s - loss: 0.4488 - acc: 0.8533     \n",
      "Epoch 19/100\n",
      "75/75 [==============================] - 0s - loss: 0.4837 - acc: 0.8000     \n",
      "Epoch 20/100\n",
      "75/75 [==============================] - 0s - loss: 0.5100 - acc: 0.7600     \n",
      "Epoch 21/100\n",
      "75/75 [==============================] - 0s - loss: 0.4792 - acc: 0.8267        \n",
      "Epoch 22/100\n",
      "75/75 [==============================] - 0s - loss: 0.4684 - acc: 0.8000     - ETA: 0s - loss: 0.4822 - acc: 0.80\n",
      "Epoch 23/100\n",
      "75/75 [==============================] - 0s - loss: 0.4122 - acc: 0.8533        \n",
      "Epoch 24/100\n",
      "75/75 [==============================] - 0s - loss: 0.3986 - acc: 0.8933     \n",
      "Epoch 25/100\n",
      "75/75 [==============================] - 0s - loss: 0.4280 - acc: 0.8267     \n",
      "Epoch 26/100\n",
      "75/75 [==============================] - 0s - loss: 0.3972 - acc: 0.8400     \n",
      "Epoch 27/100\n",
      "75/75 [==============================] - 0s - loss: 0.3661 - acc: 0.8800     \n",
      "Epoch 28/100\n",
      "75/75 [==============================] - 0s - loss: 0.3989 - acc: 0.8667     \n",
      "Epoch 29/100\n",
      "75/75 [==============================] - 0s - loss: 0.3779 - acc: 0.8400     \n",
      "Epoch 30/100\n",
      "75/75 [==============================] - 0s - loss: 0.3684 - acc: 0.9467     \n",
      "Epoch 31/100\n",
      "75/75 [==============================] - 0s - loss: 0.3615 - acc: 0.8533     \n",
      "Epoch 32/100\n",
      "75/75 [==============================] - ETA: 0s - loss: 0.3291 - acc: 0.894 - 0s - loss: 0.3447 - acc: 0.8933     \n",
      "Epoch 33/100\n",
      "75/75 [==============================] - 0s - loss: 0.3429 - acc: 0.9467     \n",
      "Epoch 34/100\n",
      "75/75 [==============================] - 0s - loss: 0.3574 - acc: 0.8800     \n",
      "Epoch 35/100\n",
      "75/75 [==============================] - 0s - loss: 0.3581 - acc: 0.9200     \n",
      "Epoch 36/100\n",
      "75/75 [==============================] - 0s - loss: 0.3109 - acc: 0.9200     \n",
      "Epoch 37/100\n",
      "75/75 [==============================] - 0s - loss: 0.3428 - acc: 0.8933     \n",
      "Epoch 38/100\n",
      "75/75 [==============================] - 0s - loss: 0.3093 - acc: 0.9600     \n",
      "Epoch 39/100\n",
      "75/75 [==============================] - 0s - loss: 0.3166 - acc: 0.8800        \n",
      "Epoch 40/100\n",
      "75/75 [==============================] - 0s - loss: 0.2667 - acc: 0.9333     \n",
      "Epoch 41/100\n",
      "75/75 [==============================] - 0s - loss: 0.2716 - acc: 0.9333       \n",
      "Epoch 42/100\n",
      "75/75 [==============================] - 0s - loss: 0.2823 - acc: 0.9067     \n",
      "Epoch 43/100\n",
      "75/75 [==============================] - 0s - loss: 0.2761 - acc: 0.9467     \n",
      "Epoch 44/100\n",
      "75/75 [==============================] - 0s - loss: 0.2705 - acc: 0.9600     \n",
      "Epoch 45/100\n",
      "75/75 [==============================] - 0s - loss: 0.2599 - acc: 0.9333     \n",
      "Epoch 46/100\n",
      "75/75 [==============================] - 0s - loss: 0.2343 - acc: 0.9067     \n",
      "Epoch 47/100\n",
      "75/75 [==============================] - 0s - loss: 0.2445 - acc: 0.9600     \n",
      "Epoch 48/100\n",
      "75/75 [==============================] - 0s - loss: 0.2656 - acc: 0.9467     \n",
      "Epoch 49/100\n",
      "75/75 [==============================] - 0s - loss: 0.2625 - acc: 0.9333     \n",
      "Epoch 50/100\n",
      "75/75 [==============================] - 0s - loss: 0.2361 - acc: 0.9467     \n",
      "Epoch 51/100\n",
      "75/75 [==============================] - 0s - loss: 0.2365 - acc: 0.9467     \n",
      "Epoch 52/100\n",
      "75/75 [==============================] - 0s - loss: 0.2245 - acc: 0.9467     \n",
      "Epoch 53/100\n",
      "75/75 [==============================] - 0s - loss: 0.2646 - acc: 0.9333     \n",
      "Epoch 54/100\n",
      "75/75 [==============================] - 0s - loss: 0.2313 - acc: 0.9600     \n",
      "Epoch 55/100\n",
      "75/75 [==============================] - 0s - loss: 0.2262 - acc: 0.9467     \n",
      "Epoch 56/100\n",
      "75/75 [==============================] - 0s - loss: 0.2236 - acc: 0.9200       \n",
      "Epoch 57/100\n",
      "75/75 [==============================] - 0s - loss: 0.2129 - acc: 0.9467     \n",
      "Epoch 58/100\n",
      "75/75 [==============================] - 0s - loss: 0.1840 - acc: 0.9733     \n",
      "Epoch 59/100\n",
      "75/75 [==============================] - 0s - loss: 0.2062 - acc: 0.9600     \n",
      "Epoch 60/100\n",
      "75/75 [==============================] - 0s - loss: 0.1674 - acc: 0.9733     \n",
      "Epoch 61/100\n",
      "75/75 [==============================] - 0s - loss: 0.2039 - acc: 0.9333     \n",
      "Epoch 62/100\n",
      "75/75 [==============================] - 0s - loss: 0.1750 - acc: 0.9733     \n",
      "Epoch 63/100\n",
      "75/75 [==============================] - 0s - loss: 0.1965 - acc: 0.9467     \n",
      "Epoch 64/100\n",
      "75/75 [==============================] - 0s - loss: 0.1856 - acc: 0.9600     \n",
      "Epoch 65/100\n",
      "75/75 [==============================] - 0s - loss: 0.1744 - acc: 0.9733     \n",
      "Epoch 66/100\n",
      "75/75 [==============================] - 0s - loss: 0.2143 - acc: 0.9333     \n",
      "Epoch 67/100\n",
      "75/75 [==============================] - 0s - loss: 0.1746 - acc: 0.9733       \n",
      "Epoch 68/100\n",
      "75/75 [==============================] - 0s - loss: 0.1881 - acc: 0.9733     \n",
      "Epoch 69/100\n",
      "75/75 [==============================] - 0s - loss: 0.2075 - acc: 0.9333       \n",
      "Epoch 70/100\n",
      "75/75 [==============================] - 0s - loss: 0.1664 - acc: 0.9333     \n",
      "Epoch 71/100\n",
      "75/75 [==============================] - 0s - loss: 0.1746 - acc: 0.9467     \n",
      "Epoch 72/100\n",
      "75/75 [==============================] - 0s - loss: 0.1439 - acc: 0.9733     \n",
      "Epoch 73/100\n",
      "75/75 [==============================] - 0s - loss: 0.1740 - acc: 0.9467     \n",
      "Epoch 74/100\n",
      "75/75 [==============================] - 0s - loss: 0.1347 - acc: 0.9733     \n",
      "Epoch 75/100\n",
      "75/75 [==============================] - 0s - loss: 0.1545 - acc: 0.9867     \n",
      "Epoch 76/100\n",
      "75/75 [==============================] - 0s - loss: 0.1738 - acc: 0.9467     \n",
      "Epoch 77/100\n",
      "75/75 [==============================] - 0s - loss: 0.1632 - acc: 0.9600     \n",
      "Epoch 78/100\n",
      "75/75 [==============================] - 0s - loss: 0.1980 - acc: 0.9467     \n",
      "Epoch 79/100\n",
      "75/75 [==============================] - 0s - loss: 0.1294 - acc: 0.9600     \n",
      "Epoch 80/100\n",
      "75/75 [==============================] - 0s - loss: 0.1701 - acc: 0.9733     \n",
      "Epoch 81/100\n",
      "75/75 [==============================] - 0s - loss: 0.1253 - acc: 0.9733     \n",
      "Epoch 82/100\n",
      "75/75 [==============================] - 0s - loss: 0.1429 - acc: 0.9467     \n",
      "Epoch 83/100\n",
      "75/75 [==============================] - 0s - loss: 0.1713 - acc: 0.9600     \n",
      "Epoch 84/100\n",
      "75/75 [==============================] - 0s - loss: 0.1403 - acc: 0.9600     \n",
      "Epoch 85/100\n",
      "75/75 [==============================] - 0s - loss: 0.1318 - acc: 0.9867     \n",
      "Epoch 86/100\n",
      "75/75 [==============================] - 0s - loss: 0.1400 - acc: 0.9467     \n",
      "Epoch 87/100\n",
      "75/75 [==============================] - 0s - loss: 0.1601 - acc: 0.9200     \n",
      "Epoch 88/100\n",
      "75/75 [==============================] - 0s - loss: 0.1472 - acc: 0.9600       \n",
      "Epoch 89/100\n",
      "75/75 [==============================] - 0s - loss: 0.1839 - acc: 0.9200     \n",
      "Epoch 90/100\n"
     ]
    },
    {
     "name": "stdout",
     "output_type": "stream",
     "text": [
      "75/75 [==============================] - 0s - loss: 0.1518 - acc: 0.9600     \n",
      "Epoch 91/100\n",
      "75/75 [==============================] - 0s - loss: 0.1353 - acc: 0.9600     \n",
      "Epoch 92/100\n",
      "75/75 [==============================] - 0s - loss: 0.1462 - acc: 0.9733     \n",
      "Epoch 93/100\n",
      "75/75 [==============================] - 0s - loss: 0.1578 - acc: 0.9600     \n",
      "Epoch 94/100\n",
      "75/75 [==============================] - 0s - loss: 0.0924 - acc: 0.9733     \n",
      "Epoch 95/100\n",
      "75/75 [==============================] - 0s - loss: 0.1577 - acc: 0.9600     \n",
      "Epoch 96/100\n",
      "75/75 [==============================] - 0s - loss: 0.1661 - acc: 0.9467     \n",
      "Epoch 97/100\n",
      "75/75 [==============================] - 0s - loss: 0.1605 - acc: 0.9467     \n",
      "Epoch 98/100\n",
      "75/75 [==============================] - 0s - loss: 0.1434 - acc: 0.9600     \n",
      "Epoch 99/100\n",
      "75/75 [==============================] - 0s - loss: 0.1146 - acc: 0.9733     \n",
      "Epoch 100/100\n",
      "75/75 [==============================] - 0s - loss: 0.1125 - acc: 0.9867     \n"
     ]
    },
    {
     "data": {
      "text/plain": [
       "<keras.callbacks.History at 0x23ab81cd5f8>"
      ]
     },
     "execution_count": 92,
     "metadata": {},
     "output_type": "execute_result"
    }
   ],
   "source": [
    "model.fit(train_X, train_y_ohe, verbose=1, batch_size=1, nb_epoch=100)"
   ]
  },
  {
   "cell_type": "markdown",
   "metadata": {},
   "source": [
    "### 4. Test the model"
   ]
  },
  {
   "cell_type": "markdown",
   "metadata": {},
   "source": [
    "Use the testing set to test your model, clearly calculating and displaying the error rate."
   ]
  },
  {
   "cell_type": "code",
   "execution_count": null,
   "metadata": {
    "collapsed": true
   },
   "outputs": [],
   "source": []
  }
 ],
 "metadata": {
  "kernelspec": {
   "display_name": "Python 3",
   "language": "python",
   "name": "python3"
  },
  "language_info": {
   "codemirror_mode": {
    "name": "ipython",
    "version": 3
   },
   "file_extension": ".py",
   "mimetype": "text/x-python",
   "name": "python",
   "nbconvert_exporter": "python",
   "pygments_lexer": "ipython3",
   "version": "3.6.3"
  }
 },
 "nbformat": 4,
 "nbformat_minor": 2
}
