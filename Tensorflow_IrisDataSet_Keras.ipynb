{
 "cells": [
  {
   "cell_type": "markdown",
   "metadata": {},
   "source": [
    "## Problem set: Tensorflow\n",
    "These problems relate to the Python package Tensorflow. We will again use the famous iris data set. Save your work as a single Jupyter notebook file in a GitHub repository. Include any required data files, a README, and a gitignore file in the repository. "
   ]
  },
  {
   "cell_type": "markdown",
   "metadata": {},
   "source": [
    "### Get and load the data"
   ]
  },
  {
   "cell_type": "code",
   "execution_count": 79,
   "metadata": {
    "scrolled": true
   },
   "outputs": [],
   "source": [
    "#import desired packages\n",
    "import tensorflow as tf\n",
    "import numpy as np\n",
    "import pandas as pd\n",
    "import seaborn as sns\n",
    "import matplotlib.pyplot as plt\n",
    "from keras.models import Sequential\n",
    "from keras.layers import Dense, Dropout\n",
    "from keras.regularizers import l2\n",
    "from keras.utils import np_utils\n",
    "\n",
    "from sklearn.cross_validation import train_test_split\n",
    "\n",
    "\n",
    "   "
   ]
  },
  {
   "cell_type": "code",
   "execution_count": 80,
   "metadata": {
    "collapsed": true
   },
   "outputs": [],
   "source": [
    "#import data \n",
    "data=pd.read_csv('data.csv', names=['SepalLength','SepalWidth','PetalLength','PetalWidth','Species'])"
   ]
  },
  {
   "cell_type": "code",
   "execution_count": 81,
   "metadata": {},
   "outputs": [
    {
     "data": {
      "text/html": [
       "<div>\n",
       "<style>\n",
       "    .dataframe thead tr:only-child th {\n",
       "        text-align: right;\n",
       "    }\n",
       "\n",
       "    .dataframe thead th {\n",
       "        text-align: left;\n",
       "    }\n",
       "\n",
       "    .dataframe tbody tr th {\n",
       "        vertical-align: top;\n",
       "    }\n",
       "</style>\n",
       "<table border=\"1\" class=\"dataframe\">\n",
       "  <thead>\n",
       "    <tr style=\"text-align: right;\">\n",
       "      <th></th>\n",
       "      <th>SepalLength</th>\n",
       "      <th>SepalWidth</th>\n",
       "      <th>PetalLength</th>\n",
       "      <th>PetalWidth</th>\n",
       "      <th>Species</th>\n",
       "    </tr>\n",
       "  </thead>\n",
       "  <tbody>\n",
       "    <tr>\n",
       "      <th>0</th>\n",
       "      <td>5.1</td>\n",
       "      <td>3.5</td>\n",
       "      <td>1.4</td>\n",
       "      <td>0.2</td>\n",
       "      <td>Iris-setosa</td>\n",
       "    </tr>\n",
       "    <tr>\n",
       "      <th>1</th>\n",
       "      <td>4.9</td>\n",
       "      <td>3.0</td>\n",
       "      <td>1.4</td>\n",
       "      <td>0.2</td>\n",
       "      <td>Iris-setosa</td>\n",
       "    </tr>\n",
       "    <tr>\n",
       "      <th>2</th>\n",
       "      <td>4.7</td>\n",
       "      <td>3.2</td>\n",
       "      <td>1.3</td>\n",
       "      <td>0.2</td>\n",
       "      <td>Iris-setosa</td>\n",
       "    </tr>\n",
       "    <tr>\n",
       "      <th>3</th>\n",
       "      <td>4.6</td>\n",
       "      <td>3.1</td>\n",
       "      <td>1.5</td>\n",
       "      <td>0.2</td>\n",
       "      <td>Iris-setosa</td>\n",
       "    </tr>\n",
       "    <tr>\n",
       "      <th>4</th>\n",
       "      <td>5.0</td>\n",
       "      <td>3.6</td>\n",
       "      <td>1.4</td>\n",
       "      <td>0.2</td>\n",
       "      <td>Iris-setosa</td>\n",
       "    </tr>\n",
       "  </tbody>\n",
       "</table>\n",
       "</div>"
      ],
      "text/plain": [
       "   SepalLength  SepalWidth  PetalLength  PetalWidth      Species\n",
       "0          5.1         3.5          1.4         0.2  Iris-setosa\n",
       "1          4.9         3.0          1.4         0.2  Iris-setosa\n",
       "2          4.7         3.2          1.3         0.2  Iris-setosa\n",
       "3          4.6         3.1          1.5         0.2  Iris-setosa\n",
       "4          5.0         3.6          1.4         0.2  Iris-setosa"
      ]
     },
     "execution_count": 81,
     "metadata": {},
     "output_type": "execute_result"
    }
   ],
   "source": [
    "#Display the data\n",
    "data.head()"
   ]
  },
  {
   "cell_type": "markdown",
   "metadata": {},
   "source": [
    "### 1. Use Tensorflow to create model"
   ]
  },
  {
   "cell_type": "markdown",
   "metadata": {},
   "source": [
    "Use Tensorflow to create a model to predict the species of Iris from a flower’s sepal width, sepal length, petal width, and petal length.\n"
   ]
  },
  {
   "cell_type": "code",
   "execution_count": 82,
   "metadata": {},
   "outputs": [
    {
     "name": "stderr",
     "output_type": "stream",
     "text": [
      "C:\\Users\\Alexander Souza\\Anaconda3\\lib\\site-packages\\ipykernel_launcher.py:12: UserWarning: Update your `Dense` call to the Keras 2 API: `Dense(16, input_shape=(4,), activation=\"tanh\", kernel_regularizer=<keras.reg...)`\n",
      "  if sys.path[0] == '':\n"
     ]
    }
   ],
   "source": [
    "# Make ONE-HOT\n",
    "def one_hot_encode_object_array(arr):\n",
    "    '''One hot encode a numpy array of objects (e.g. strings)'''\n",
    "    uniques, ids = np.unique(arr, return_inverse=True)\n",
    "    return np_utils.to_categorical(ids, len(uniques))\n",
    "\n",
    "\n",
    "train_y_ohe = one_hot_encode_object_array(train_y)\n",
    "test_y_ohe = one_hot_encode_object_array(test_y)\n",
    "\n",
    "model = Sequential()\n",
    "model.add(Dense(16, input_shape=(4,), activation=\"tanh\", W_regularizer=l2(0.001)))\n",
    "model.add(Dropout(0.5))\n",
    "model.add(Dense(3, activation=\"softmax\"))\n",
    "\n",
    "model.compile(loss='categorical_crossentropy', metrics=['accuracy'], optimizer='adam')"
   ]
  },
  {
   "cell_type": "markdown",
   "metadata": {},
   "source": [
    "### 2. Split the data into training and testing"
   ]
  },
  {
   "cell_type": "markdown",
   "metadata": {},
   "source": [
    "Split the data set into a training set and a testing set. You should investigate the best way to do this, and list any online references used in your notebook. If you wish to, you can write some code to randomly separate the data on the fly."
   ]
  },
  {
   "cell_type": "code",
   "execution_count": 83,
   "metadata": {},
   "outputs": [],
   "source": [
    "# Prepare data\n",
    "X = data.values[:, 0:4]\n",
    "y = data.values[:, 4]"
   ]
  },
  {
   "cell_type": "code",
   "execution_count": 84,
   "metadata": {},
   "outputs": [],
   "source": [
    "# Make test and train set\n",
    "train_X, test_X, train_y, test_y = train_test_split(X, y, train_size=0.5, random_state=0)"
   ]
  },
  {
   "cell_type": "markdown",
   "metadata": {},
   "source": [
    "### 3. Train the model"
   ]
  },
  {
   "cell_type": "markdown",
   "metadata": {},
   "source": [
    "Use the testing set to train your model."
   ]
  },
  {
   "cell_type": "code",
   "execution_count": 85,
   "metadata": {
    "scrolled": false
   },
   "outputs": [
    {
     "name": "stderr",
     "output_type": "stream",
     "text": [
      "C:\\Users\\Alexander Souza\\Anaconda3\\lib\\site-packages\\keras\\models.py:844: UserWarning: The `nb_epoch` argument in `fit` has been renamed `epochs`.\n",
      "  warnings.warn('The `nb_epoch` argument in `fit` '\n"
     ]
    },
    {
     "name": "stdout",
     "output_type": "stream",
     "text": [
      "Epoch 1/100\n",
      "75/75 [==============================] - 0s - loss: 1.3688 - acc: 0.4000     \n",
      "Epoch 2/100\n",
      "75/75 [==============================] - 0s - loss: 1.3470 - acc: 0.4133        \n",
      "Epoch 3/100\n",
      "75/75 [==============================] - 0s - loss: 1.2035 - acc: 0.4667       \n",
      "Epoch 4/100\n",
      "75/75 [==============================] - 0s - loss: 1.1757 - acc: 0.3733     \n",
      "Epoch 5/100\n",
      "75/75 [==============================] - 0s - loss: 0.8511 - acc: 0.5867     \n",
      "Epoch 6/100\n",
      "75/75 [==============================] - 0s - loss: 0.8218 - acc: 0.6667     \n",
      "Epoch 7/100\n",
      "75/75 [==============================] - 0s - loss: 0.6621 - acc: 0.7467       \n",
      "Epoch 8/100\n",
      "75/75 [==============================] - 0s - loss: 0.6897 - acc: 0.7200     \n",
      "Epoch 9/100\n",
      "75/75 [==============================] - 0s - loss: 0.7014 - acc: 0.7067     \n",
      "Epoch 10/100\n",
      "75/75 [==============================] - 0s - loss: 0.6507 - acc: 0.7333     \n",
      "Epoch 11/100\n",
      "75/75 [==============================] - 0s - loss: 0.5661 - acc: 0.7467       \n",
      "Epoch 12/100\n",
      "75/75 [==============================] - 0s - loss: 0.6023 - acc: 0.7467     \n",
      "Epoch 13/100\n",
      "75/75 [==============================] - 0s - loss: 0.5829 - acc: 0.6800     \n",
      "Epoch 14/100\n",
      "75/75 [==============================] - 0s - loss: 0.5332 - acc: 0.8000     \n",
      "Epoch 15/100\n",
      "75/75 [==============================] - 0s - loss: 0.5444 - acc: 0.7600     \n",
      "Epoch 16/100\n",
      "75/75 [==============================] - 0s - loss: 0.5542 - acc: 0.6800       \n",
      "Epoch 17/100\n",
      "75/75 [==============================] - 0s - loss: 0.4619 - acc: 0.8000     \n",
      "Epoch 18/100\n",
      "75/75 [==============================] - 0s - loss: 0.4725 - acc: 0.7733       \n",
      "Epoch 19/100\n",
      "75/75 [==============================] - 0s - loss: 0.4686 - acc: 0.8133       \n",
      "Epoch 20/100\n",
      "75/75 [==============================] - 0s - loss: 0.4797 - acc: 0.7600     \n",
      "Epoch 21/100\n",
      "75/75 [==============================] - 0s - loss: 0.4351 - acc: 0.7467     \n",
      "Epoch 22/100\n",
      "75/75 [==============================] - 0s - loss: 0.4220 - acc: 0.8400       \n",
      "Epoch 23/100\n",
      "75/75 [==============================] - 0s - loss: 0.3975 - acc: 0.8800     \n",
      "Epoch 24/100\n",
      "75/75 [==============================] - 0s - loss: 0.3755 - acc: 0.8267     \n",
      "Epoch 25/100\n",
      "75/75 [==============================] - 0s - loss: 0.4371 - acc: 0.8267     \n",
      "Epoch 26/100\n",
      "75/75 [==============================] - 0s - loss: 0.3982 - acc: 0.8267     \n",
      "Epoch 27/100\n",
      "75/75 [==============================] - 0s - loss: 0.3646 - acc: 0.8267     \n",
      "Epoch 28/100\n",
      "75/75 [==============================] - 0s - loss: 0.3868 - acc: 0.8533     \n",
      "Epoch 29/100\n",
      "75/75 [==============================] - 0s - loss: 0.3448 - acc: 0.8933     \n",
      "Epoch 30/100\n",
      "75/75 [==============================] - 0s - loss: 0.3625 - acc: 0.8667     \n",
      "Epoch 31/100\n",
      "75/75 [==============================] - 0s - loss: 0.3133 - acc: 0.9333     \n",
      "Epoch 32/100\n",
      "75/75 [==============================] - 0s - loss: 0.3209 - acc: 0.9067     \n",
      "Epoch 33/100\n",
      "75/75 [==============================] - 0s - loss: 0.3249 - acc: 0.8933     \n",
      "Epoch 34/100\n",
      "75/75 [==============================] - 0s - loss: 0.3362 - acc: 0.8933     \n",
      "Epoch 35/100\n",
      "75/75 [==============================] - 0s - loss: 0.3176 - acc: 0.8933     \n",
      "Epoch 36/100\n",
      "75/75 [==============================] - 0s - loss: 0.3004 - acc: 0.9067     \n",
      "Epoch 37/100\n",
      "75/75 [==============================] - 0s - loss: 0.2953 - acc: 0.9333     \n",
      "Epoch 38/100\n",
      "75/75 [==============================] - 0s - loss: 0.2791 - acc: 0.9200        \n",
      "Epoch 39/100\n",
      "75/75 [==============================] - 0s - loss: 0.2746 - acc: 0.9467     \n",
      "Epoch 40/100\n",
      "75/75 [==============================] - 0s - loss: 0.2728 - acc: 0.8933     \n",
      "Epoch 41/100\n",
      "75/75 [==============================] - 0s - loss: 0.2690 - acc: 0.9333     \n",
      "Epoch 42/100\n",
      "75/75 [==============================] - 0s - loss: 0.2880 - acc: 0.9067        \n",
      "Epoch 43/100\n",
      "75/75 [==============================] - 0s - loss: 0.2699 - acc: 0.9333     \n",
      "Epoch 44/100\n",
      "75/75 [==============================] - 0s - loss: 0.2511 - acc: 0.9333     \n",
      "Epoch 45/100\n",
      "75/75 [==============================] - 0s - loss: 0.2400 - acc: 0.9200     \n",
      "Epoch 46/100\n",
      "75/75 [==============================] - 0s - loss: 0.2065 - acc: 0.9600     \n",
      "Epoch 47/100\n",
      "75/75 [==============================] - 0s - loss: 0.2269 - acc: 0.9200     \n",
      "Epoch 48/100\n",
      "75/75 [==============================] - 0s - loss: 0.2623 - acc: 0.9333     \n",
      "Epoch 49/100\n",
      "75/75 [==============================] - 0s - loss: 0.2279 - acc: 0.9467     \n",
      "Epoch 50/100\n",
      "75/75 [==============================] - 0s - loss: 0.2677 - acc: 0.9333     \n",
      "Epoch 51/100\n",
      "75/75 [==============================] - 0s - loss: 0.2463 - acc: 0.9200       \n",
      "Epoch 52/100\n",
      "75/75 [==============================] - 0s - loss: 0.2428 - acc: 0.9600     \n",
      "Epoch 53/100\n",
      "75/75 [==============================] - 0s - loss: 0.2175 - acc: 0.9333     \n",
      "Epoch 54/100\n",
      "75/75 [==============================] - 0s - loss: 0.2386 - acc: 0.9600     \n",
      "Epoch 55/100\n",
      "75/75 [==============================] - 0s - loss: 0.2133 - acc: 0.9333     \n",
      "Epoch 56/100\n",
      "75/75 [==============================] - 0s - loss: 0.1951 - acc: 0.9600        \n",
      "Epoch 57/100\n",
      "75/75 [==============================] - 0s - loss: 0.2106 - acc: 0.9467     \n",
      "Epoch 58/100\n",
      "75/75 [==============================] - 0s - loss: 0.1944 - acc: 0.9600     \n",
      "Epoch 59/100\n",
      "75/75 [==============================] - 0s - loss: 0.2182 - acc: 0.9467     \n",
      "Epoch 60/100\n",
      "75/75 [==============================] - 0s - loss: 0.1739 - acc: 0.9467     \n",
      "Epoch 61/100\n",
      "75/75 [==============================] - 0s - loss: 0.1915 - acc: 0.9600     \n",
      "Epoch 62/100\n",
      "75/75 [==============================] - 0s - loss: 0.1987 - acc: 0.9733     \n",
      "Epoch 63/100\n",
      "75/75 [==============================] - 0s - loss: 0.2042 - acc: 0.9600     \n",
      "Epoch 64/100\n",
      "75/75 [==============================] - 0s - loss: 0.1638 - acc: 0.9600     \n",
      "Epoch 65/100\n",
      "75/75 [==============================] - 0s - loss: 0.2165 - acc: 0.9200     \n",
      "Epoch 66/100\n",
      "75/75 [==============================] - 0s - loss: 0.1767 - acc: 0.9467     \n",
      "Epoch 67/100\n",
      "75/75 [==============================] - 0s - loss: 0.1546 - acc: 0.9733     \n",
      "Epoch 68/100\n",
      "75/75 [==============================] - 0s - loss: 0.1955 - acc: 0.9467     \n",
      "Epoch 69/100\n",
      "75/75 [==============================] - 0s - loss: 0.2035 - acc: 0.9600     \n",
      "Epoch 70/100\n",
      "75/75 [==============================] - 0s - loss: 0.1507 - acc: 0.9733     \n",
      "Epoch 71/100\n",
      "75/75 [==============================] - 0s - loss: 0.1551 - acc: 0.9333     \n",
      "Epoch 72/100\n",
      "75/75 [==============================] - 0s - loss: 0.1823 - acc: 0.9333     \n",
      "Epoch 73/100\n",
      "75/75 [==============================] - 0s - loss: 0.1496 - acc: 0.9733     \n",
      "Epoch 74/100\n",
      "75/75 [==============================] - 0s - loss: 0.1676 - acc: 0.9733     \n",
      "Epoch 75/100\n",
      "75/75 [==============================] - 0s - loss: 0.1607 - acc: 0.9600     \n",
      "Epoch 76/100\n",
      "75/75 [==============================] - 0s - loss: 0.1178 - acc: 0.9733     \n",
      "Epoch 77/100\n",
      "75/75 [==============================] - 0s - loss: 0.1312 - acc: 0.9600     \n",
      "Epoch 78/100\n",
      "75/75 [==============================] - 0s - loss: 0.2039 - acc: 0.9333     \n",
      "Epoch 79/100\n",
      "75/75 [==============================] - 0s - loss: 0.1266 - acc: 0.9733     \n",
      "Epoch 80/100\n",
      "75/75 [==============================] - 0s - loss: 0.1274 - acc: 0.9733     \n",
      "Epoch 81/100\n",
      "75/75 [==============================] - 0s - loss: 0.1499 - acc: 0.9600     \n",
      "Epoch 82/100\n",
      "75/75 [==============================] - 0s - loss: 0.1563 - acc: 0.9467     \n",
      "Epoch 83/100\n",
      "75/75 [==============================] - 0s - loss: 0.1738 - acc: 0.9333     \n",
      "Epoch 84/100\n",
      "75/75 [==============================] - 0s - loss: 0.1355 - acc: 0.9733     \n",
      "Epoch 85/100\n",
      "75/75 [==============================] - 0s - loss: 0.1290 - acc: 0.9600     \n",
      "Epoch 86/100\n",
      "75/75 [==============================] - 0s - loss: 0.1359 - acc: 0.9733     \n",
      "Epoch 87/100\n",
      "75/75 [==============================] - 0s - loss: 0.1238 - acc: 0.9600     \n",
      "Epoch 88/100\n",
      "75/75 [==============================] - 0s - loss: 0.1258 - acc: 0.9600     \n",
      "Epoch 89/100\n",
      "75/75 [==============================] - 0s - loss: 0.1360 - acc: 0.9733     \n",
      "Epoch 90/100\n"
     ]
    },
    {
     "name": "stdout",
     "output_type": "stream",
     "text": [
      "75/75 [==============================] - 0s - loss: 0.1165 - acc: 0.9733     \n",
      "Epoch 91/100\n",
      "75/75 [==============================] - 0s - loss: 0.1216 - acc: 0.9467     \n",
      "Epoch 92/100\n",
      "75/75 [==============================] - 0s - loss: 0.1548 - acc: 0.9467     \n",
      "Epoch 93/100\n",
      "75/75 [==============================] - 0s - loss: 0.1257 - acc: 0.9867     \n",
      "Epoch 94/100\n",
      "75/75 [==============================] - 0s - loss: 0.1527 - acc: 0.9600     \n",
      "Epoch 95/100\n",
      "75/75 [==============================] - 0s - loss: 0.1149 - acc: 0.9733     \n",
      "Epoch 96/100\n",
      "75/75 [==============================] - ETA: 0s - loss: 0.1108 - acc: 0.975 - 0s - loss: 0.1062 - acc: 0.9867     \n",
      "Epoch 97/100\n",
      "75/75 [==============================] - 0s - loss: 0.1127 - acc: 0.9867     \n",
      "Epoch 98/100\n",
      "75/75 [==============================] - 0s - loss: 0.1304 - acc: 0.9867     \n",
      "Epoch 99/100\n",
      "75/75 [==============================] - 0s - loss: 0.1277 - acc: 0.9733     \n",
      "Epoch 100/100\n",
      "75/75 [==============================] - 0s - loss: 0.1135 - acc: 0.9600     - ETA: 0s - loss: 0.1146 - acc: 0.94\n"
     ]
    },
    {
     "data": {
      "text/plain": [
       "<keras.callbacks.History at 0x23ab81cd2e8>"
      ]
     },
     "execution_count": 85,
     "metadata": {},
     "output_type": "execute_result"
    }
   ],
   "source": []
  },
  {
   "cell_type": "markdown",
   "metadata": {},
   "source": [
    "### 4. Test the model"
   ]
  },
  {
   "cell_type": "markdown",
   "metadata": {},
   "source": [
    "Use the testing set to test your model, clearly calculating and displaying the error rate."
   ]
  },
  {
   "cell_type": "code",
   "execution_count": null,
   "metadata": {
    "collapsed": true
   },
   "outputs": [],
   "source": []
  }
 ],
 "metadata": {
  "kernelspec": {
   "display_name": "Python 3",
   "language": "python",
   "name": "python3"
  },
  "language_info": {
   "codemirror_mode": {
    "name": "ipython",
    "version": 3
   },
   "file_extension": ".py",
   "mimetype": "text/x-python",
   "name": "python",
   "nbconvert_exporter": "python",
   "pygments_lexer": "ipython3",
   "version": "3.6.3"
  }
 },
 "nbformat": 4,
 "nbformat_minor": 2
}
